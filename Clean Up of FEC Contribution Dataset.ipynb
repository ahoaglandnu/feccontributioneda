{
 "cells": [
  {
   "cell_type": "code",
   "execution_count": 1,
   "metadata": {
    "collapsed": true
   },
   "outputs": [],
   "source": [
    "import numpy as np\n",
    "import pandas as pd"
   ]
  },
  {
   "cell_type": "markdown",
   "metadata": {},
   "source": [
    "Original source: http://classic.fec.gov/disclosurep/PDownload.do"
   ]
  },
  {
   "cell_type": "code",
   "execution_count": 2,
   "metadata": {
    "collapsed": true
   },
   "outputs": [],
   "source": [
    "chunks = pd.read_csv('P00000001-ALL.csv', index_col=False, iterator=True, chunksize=1000)"
   ]
  },
  {
   "cell_type": "code",
   "execution_count": 3,
   "metadata": {
    "collapsed": true
   },
   "outputs": [],
   "source": [
    "df = pd.concat(chunks, ignore_index=True)"
   ]
  },
  {
   "cell_type": "code",
   "execution_count": 4,
   "metadata": {
    "collapsed": true
   },
   "outputs": [],
   "source": [
    "# keep only the 50 states and DC\n",
    "states = [\"AL\", \"AK\", \"AZ\", \"AR\", \"CA\", \"CO\", \"CT\", \"DC\", \"DE\", \"FL\", \"GA\", \n",
    "          \"HI\", \"ID\", \"IL\", \"IN\", \"IA\", \"KS\", \"KY\", \"LA\", \"ME\", \"MD\", \n",
    "          \"MA\", \"MI\", \"MN\", \"MS\", \"MO\", \"MT\", \"NE\", \"NV\", \"NH\", \"NJ\", \n",
    "          \"NM\", \"NY\", \"NC\", \"ND\", \"OH\", \"OK\", \"OR\", \"PA\", \"RI\", \"SC\", \n",
    "          \"SD\", \"TN\", \"TX\", \"UT\", \"VT\", \"VA\", \"WA\", \"WV\", \"WI\", \"WY\"]\n",
    "domestic_df = df[df.contbr_st.map(lambda x: x in states)]"
   ]
  },
  {
   "cell_type": "code",
   "execution_count": 5,
   "metadata": {
    "collapsed": true
   },
   "outputs": [],
   "source": [
    "df = domestic_df[['cand_nm','contbr_st','contbr_occupation','contb_receipt_amt','contbr_zip']]\n",
    "df = df[df.contb_receipt_amt > 0.0]"
   ]
  },
  {
   "cell_type": "code",
   "execution_count": 6,
   "metadata": {
    "collapsed": true
   },
   "outputs": [],
   "source": [
    "# add political party field\n",
    "political_party = {'Rubio, Marco':'republican','Santorum, Richard J.':'republican',\n",
    "                 'Perry, James R. (Rick)':'republican','Carson, Benjamin S.':'republican',\n",
    "                 \"Cruz, Rafael Edward 'Ted'\":'republican','Paul, Rand':'republican',\n",
    "                 'Fiorina, Carly':'republican','Huckabee, Mike':'republican',\n",
    "                 'Graham, Lindsey O.':'republican','Bush, Jeb':'republican','Trump, Donald J.':'republican',\n",
    "                 'Jindal, Bobby':'republican','Christie, Christopher J.':'republican',\n",
    "                 'Walker, Scott':'republican','Kasich, John R.':'republican',\n",
    "                 'Gilmore, James S III':'republican','Clinton, Hillary Rodham':'democrat',\n",
    "                 'Sanders, Bernard':'democrat','Lessig, Lawrence':'democrat',\n",
    "                 \"O'Malley, Martin Joseph\":'democrat','Pataki, George E.':'democrat',\n",
    "                 'Webb, James Henry Jr.':'democrat','Johnson, Gary':'third_party',\n",
    "                 'Stein, Jill':'third_party','McMullin, Evan':'third_party' }"
   ]
  },
  {
   "cell_type": "code",
   "execution_count": 7,
   "metadata": {
    "collapsed": true
   },
   "outputs": [],
   "source": [
    "df['party'] = df.cand_nm.map(political_party)"
   ]
  },
  {
   "cell_type": "code",
   "execution_count": 8,
   "metadata": {
    "collapsed": true
   },
   "outputs": [],
   "source": [
    "# clean up zip codes\n",
    "df['contbr_zip2'] = pd.to_numeric(df['contbr_zip'], errors='coerse')\n",
    "df = df.dropna()\n",
    "df = df.reset_index(drop=True)"
   ]
  },
  {
   "cell_type": "code",
   "execution_count": 9,
   "metadata": {
    "collapsed": true
   },
   "outputs": [],
   "source": [
    "new_zips = []\n",
    "for i in range(len(df[0:])):\n",
    "    old_zip = int(df['contbr_zip'][i])\n",
    "    if old_zip > 99999:\n",
    "        zipcode = old_zip / 10000\n",
    "        zipcode = str(zipcode)\n",
    "        zipcode = zipcode[:5]\n",
    "    else:\n",
    "        zipcode = old_zip\n",
    "        zipcode = str(zipcode)\n",
    "    new_zips.append(zipcode)"
   ]
  },
  {
   "cell_type": "code",
   "execution_count": 10,
   "metadata": {
    "collapsed": true
   },
   "outputs": [],
   "source": [
    "df['fiveD_zipcodes'] = new_zips"
   ]
  },
  {
   "cell_type": "code",
   "execution_count": 11,
   "metadata": {
    "collapsed": true
   },
   "outputs": [],
   "source": [
    "df.to_csv('fec2016.csv', index=False)"
   ]
  },
  {
   "cell_type": "code",
   "execution_count": null,
   "metadata": {
    "collapsed": true
   },
   "outputs": [],
   "source": []
  }
 ],
 "metadata": {
  "kernelspec": {
   "display_name": "Python 3",
   "language": "python",
   "name": "python3"
  },
  "language_info": {
   "codemirror_mode": {
    "name": "ipython",
    "version": 3
   },
   "file_extension": ".py",
   "mimetype": "text/x-python",
   "name": "python",
   "nbconvert_exporter": "python",
   "pygments_lexer": "ipython3",
   "version": "3.5.3"
  }
 },
 "nbformat": 4,
 "nbformat_minor": 2
}
